{
 "cells": [
  {
   "cell_type": "code",
   "execution_count": 3,
   "metadata": {},
   "outputs": [],
   "source": [
    "import pandas as pd\n",
    "import random"
   ]
  },
  {
   "cell_type": "markdown",
   "metadata": {},
   "source": [
    "Create a dataframe of ten rows, four columns with random values. Write a Pandas program to highlight dataframe’s specific columns with different colors."
   ]
  },
  {
   "cell_type": "code",
   "execution_count": 5,
   "metadata": {},
   "outputs": [],
   "source": [
    "df = pd.DataFrame(\n",
    "    {\"a\": [random.randint(0,100) for i in range(10)],\n",
    "     \"b\": [random.randint(0,100) for i in range(10)],\n",
    "     \"c\": [random.randint(0,100) for i in range(10)],\n",
    "     \"d\": [random.randint(0,100) for i in range(10)]},\n",
    "     index = [i for i in range(10)]\n",
    ")   "
   ]
  },
  {
   "cell_type": "code",
   "execution_count": 18,
   "metadata": {},
   "outputs": [
    {
     "data": {
      "text/html": [
       "<style type=\"text/css\">\n",
       "#T_fd90b_row0_col0, #T_fd90b_row0_col2, #T_fd90b_row1_col0, #T_fd90b_row1_col2, #T_fd90b_row2_col0, #T_fd90b_row2_col2, #T_fd90b_row3_col0, #T_fd90b_row3_col2, #T_fd90b_row4_col0, #T_fd90b_row4_col2, #T_fd90b_row5_col0, #T_fd90b_row5_col2, #T_fd90b_row6_col0, #T_fd90b_row6_col2, #T_fd90b_row7_col0, #T_fd90b_row7_col2, #T_fd90b_row8_col0, #T_fd90b_row8_col2, #T_fd90b_row9_col0, #T_fd90b_row9_col2 {\n",
       "  background-color: green;\n",
       "}\n",
       "#T_fd90b_row0_col1, #T_fd90b_row0_col3, #T_fd90b_row1_col1, #T_fd90b_row1_col3, #T_fd90b_row2_col1, #T_fd90b_row2_col3, #T_fd90b_row3_col1, #T_fd90b_row3_col3, #T_fd90b_row4_col1, #T_fd90b_row4_col3, #T_fd90b_row5_col1, #T_fd90b_row5_col3, #T_fd90b_row6_col1, #T_fd90b_row6_col3, #T_fd90b_row7_col1, #T_fd90b_row7_col3, #T_fd90b_row8_col1, #T_fd90b_row8_col3, #T_fd90b_row9_col1, #T_fd90b_row9_col3 {\n",
       "  background-color: red;\n",
       "}\n",
       "</style>\n",
       "<table id=\"T_fd90b\">\n",
       "  <thead>\n",
       "    <tr>\n",
       "      <th class=\"blank level0\" >&nbsp;</th>\n",
       "      <th id=\"T_fd90b_level0_col0\" class=\"col_heading level0 col0\" >a</th>\n",
       "      <th id=\"T_fd90b_level0_col1\" class=\"col_heading level0 col1\" >b</th>\n",
       "      <th id=\"T_fd90b_level0_col2\" class=\"col_heading level0 col2\" >c</th>\n",
       "      <th id=\"T_fd90b_level0_col3\" class=\"col_heading level0 col3\" >d</th>\n",
       "    </tr>\n",
       "  </thead>\n",
       "  <tbody>\n",
       "    <tr>\n",
       "      <th id=\"T_fd90b_level0_row0\" class=\"row_heading level0 row0\" >0</th>\n",
       "      <td id=\"T_fd90b_row0_col0\" class=\"data row0 col0\" >96</td>\n",
       "      <td id=\"T_fd90b_row0_col1\" class=\"data row0 col1\" >81</td>\n",
       "      <td id=\"T_fd90b_row0_col2\" class=\"data row0 col2\" >90</td>\n",
       "      <td id=\"T_fd90b_row0_col3\" class=\"data row0 col3\" >68</td>\n",
       "    </tr>\n",
       "    <tr>\n",
       "      <th id=\"T_fd90b_level0_row1\" class=\"row_heading level0 row1\" >1</th>\n",
       "      <td id=\"T_fd90b_row1_col0\" class=\"data row1 col0\" >85</td>\n",
       "      <td id=\"T_fd90b_row1_col1\" class=\"data row1 col1\" >83</td>\n",
       "      <td id=\"T_fd90b_row1_col2\" class=\"data row1 col2\" >31</td>\n",
       "      <td id=\"T_fd90b_row1_col3\" class=\"data row1 col3\" >51</td>\n",
       "    </tr>\n",
       "    <tr>\n",
       "      <th id=\"T_fd90b_level0_row2\" class=\"row_heading level0 row2\" >2</th>\n",
       "      <td id=\"T_fd90b_row2_col0\" class=\"data row2 col0\" >63</td>\n",
       "      <td id=\"T_fd90b_row2_col1\" class=\"data row2 col1\" >14</td>\n",
       "      <td id=\"T_fd90b_row2_col2\" class=\"data row2 col2\" >5</td>\n",
       "      <td id=\"T_fd90b_row2_col3\" class=\"data row2 col3\" >25</td>\n",
       "    </tr>\n",
       "    <tr>\n",
       "      <th id=\"T_fd90b_level0_row3\" class=\"row_heading level0 row3\" >3</th>\n",
       "      <td id=\"T_fd90b_row3_col0\" class=\"data row3 col0\" >5</td>\n",
       "      <td id=\"T_fd90b_row3_col1\" class=\"data row3 col1\" >79</td>\n",
       "      <td id=\"T_fd90b_row3_col2\" class=\"data row3 col2\" >91</td>\n",
       "      <td id=\"T_fd90b_row3_col3\" class=\"data row3 col3\" >84</td>\n",
       "    </tr>\n",
       "    <tr>\n",
       "      <th id=\"T_fd90b_level0_row4\" class=\"row_heading level0 row4\" >4</th>\n",
       "      <td id=\"T_fd90b_row4_col0\" class=\"data row4 col0\" >4</td>\n",
       "      <td id=\"T_fd90b_row4_col1\" class=\"data row4 col1\" >76</td>\n",
       "      <td id=\"T_fd90b_row4_col2\" class=\"data row4 col2\" >66</td>\n",
       "      <td id=\"T_fd90b_row4_col3\" class=\"data row4 col3\" >24</td>\n",
       "    </tr>\n",
       "    <tr>\n",
       "      <th id=\"T_fd90b_level0_row5\" class=\"row_heading level0 row5\" >5</th>\n",
       "      <td id=\"T_fd90b_row5_col0\" class=\"data row5 col0\" >56</td>\n",
       "      <td id=\"T_fd90b_row5_col1\" class=\"data row5 col1\" >32</td>\n",
       "      <td id=\"T_fd90b_row5_col2\" class=\"data row5 col2\" >34</td>\n",
       "      <td id=\"T_fd90b_row5_col3\" class=\"data row5 col3\" >43</td>\n",
       "    </tr>\n",
       "    <tr>\n",
       "      <th id=\"T_fd90b_level0_row6\" class=\"row_heading level0 row6\" >6</th>\n",
       "      <td id=\"T_fd90b_row6_col0\" class=\"data row6 col0\" >54</td>\n",
       "      <td id=\"T_fd90b_row6_col1\" class=\"data row6 col1\" >79</td>\n",
       "      <td id=\"T_fd90b_row6_col2\" class=\"data row6 col2\" >97</td>\n",
       "      <td id=\"T_fd90b_row6_col3\" class=\"data row6 col3\" >89</td>\n",
       "    </tr>\n",
       "    <tr>\n",
       "      <th id=\"T_fd90b_level0_row7\" class=\"row_heading level0 row7\" >7</th>\n",
       "      <td id=\"T_fd90b_row7_col0\" class=\"data row7 col0\" >56</td>\n",
       "      <td id=\"T_fd90b_row7_col1\" class=\"data row7 col1\" >74</td>\n",
       "      <td id=\"T_fd90b_row7_col2\" class=\"data row7 col2\" >84</td>\n",
       "      <td id=\"T_fd90b_row7_col3\" class=\"data row7 col3\" >66</td>\n",
       "    </tr>\n",
       "    <tr>\n",
       "      <th id=\"T_fd90b_level0_row8\" class=\"row_heading level0 row8\" >8</th>\n",
       "      <td id=\"T_fd90b_row8_col0\" class=\"data row8 col0\" >10</td>\n",
       "      <td id=\"T_fd90b_row8_col1\" class=\"data row8 col1\" >42</td>\n",
       "      <td id=\"T_fd90b_row8_col2\" class=\"data row8 col2\" >20</td>\n",
       "      <td id=\"T_fd90b_row8_col3\" class=\"data row8 col3\" >80</td>\n",
       "    </tr>\n",
       "    <tr>\n",
       "      <th id=\"T_fd90b_level0_row9\" class=\"row_heading level0 row9\" >9</th>\n",
       "      <td id=\"T_fd90b_row9_col0\" class=\"data row9 col0\" >93</td>\n",
       "      <td id=\"T_fd90b_row9_col1\" class=\"data row9 col1\" >94</td>\n",
       "      <td id=\"T_fd90b_row9_col2\" class=\"data row9 col2\" >41</td>\n",
       "      <td id=\"T_fd90b_row9_col3\" class=\"data row9 col3\" >79</td>\n",
       "    </tr>\n",
       "  </tbody>\n",
       "</table>\n"
      ],
      "text/plain": [
       "<pandas.io.formats.style.Styler at 0x218ab079cd0>"
      ]
     },
     "execution_count": 18,
     "metadata": {},
     "output_type": "execute_result"
    }
   ],
   "source": [
    "def highlight_column(d): # d è la colonna da colorare\n",
    "    index = df.columns.get_loc(d.name) # ottengo l'indice della colonna da colorare\n",
    "    color = 'green' if index%2 == 0 else 'red' # verde per colonne di indice pari, rosso per quelle di indice dispari\n",
    "    return [f'background-color: {color}' for i in d]\n",
    "\n",
    "df.style.apply(highlight_column, axis = 0) "
   ]
  }
 ],
 "metadata": {
  "kernelspec": {
   "display_name": "Python 3",
   "language": "python",
   "name": "python3"
  },
  "language_info": {
   "codemirror_mode": {
    "name": "ipython",
    "version": 3
   },
   "file_extension": ".py",
   "mimetype": "text/x-python",
   "name": "python",
   "nbconvert_exporter": "python",
   "pygments_lexer": "ipython3",
   "version": "3.13.0"
  }
 },
 "nbformat": 4,
 "nbformat_minor": 2
}
